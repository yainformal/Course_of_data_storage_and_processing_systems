{
 "cells": [
  {
   "cell_type": "markdown",
   "metadata": {},
   "source": [
    "### ШАГ 0\n",
    "Импортируем необходимые модули "
   ]
  },
  {
   "cell_type": "code",
   "execution_count": 1,
   "metadata": {},
   "outputs": [],
   "source": [
    "# pip install PrettyTable # устанавливаем модуль для вывода таблиц"
   ]
  },
  {
   "cell_type": "code",
   "execution_count": 2,
   "metadata": {},
   "outputs": [],
   "source": [
    "import sqlite3 as sql\n",
    "import csv\n",
    "from prettytable import PrettyTable"
   ]
  },
  {
   "cell_type": "markdown",
   "metadata": {},
   "source": [
    "### ШАГ 1\n",
    "Скачивание таблиц и создание БД  "
   ]
  },
  {
   "cell_type": "code",
   "execution_count": 6,
   "metadata": {},
   "outputs": [],
   "source": [
    "with sql.connect('Gubanov_transaction_for_HW_3.db') as con:\n",
    "    cur = con.cursor()\n",
    "    #tr = cur.execute(f'CREATE TABLE IF NOT EXISTS transaction_bd (TRANSACTION_ID INTEGER NOT NULL,TX_DATETIME NUMERIC NOT NULL,CUSTOMER_ID INTEGER NOT NULL,TERMINAL_ID INTEGER NOT NULL,TX_AMOUNT REAL NOT NULL)')\n",
    "    customer = cur.execute(f'CREATE TABLE IF NOT EXISTS customer_bd (CLIENT_ID INTEGER NOT NULL,START_DT NUMERIC NOT NULL,END_DT NUMERIC NOT NULL,CLIENT_NAME TEXT NOT NULL,YEAR_BIRTH TEXT NOT NULL)')"
   ]
  },
  {
   "cell_type": "code",
   "execution_count": 5,
   "metadata": {},
   "outputs": [],
   "source": [
    "with open('/Users/mikhailgubanov/Yandex.Disk.localized/Course_of_data_storage_and_processing_systems/transactions_for_dz2.csv', 'r') as file:\n",
    "    reader = csv.reader(file)\n",
    "    next(reader)  # Пропускаем заголовок\n",
    "    for row in reader:\n",
    "        cur.execute('''\n",
    "            INSERT INTO transaction_bd (TRANSACTION_ID,TX_DATETIME, CUSTOMER_ID,TERMINAL_ID,TX_AMOUNT)\n",
    "            VALUES (?, ?, ?, ?, ?)\n",
    "        ''',row) # \n",
    "\n",
    "# Сохраняем изменения и закрываем соединение\n",
    "con.commit()\n",
    "con.close()"
   ]
  },
  {
   "cell_type": "code",
   "execution_count": 7,
   "metadata": {},
   "outputs": [
    {
     "ename": "OperationalError",
     "evalue": "table transaction_bd has no column named CLIENT_ID",
     "output_type": "error",
     "traceback": [
      "\u001b[0;31m---------------------------------------------------------------------------\u001b[0m",
      "\u001b[0;31mOperationalError\u001b[0m                          Traceback (most recent call last)",
      "Cell \u001b[0;32mIn[7], line 5\u001b[0m\n\u001b[1;32m      3\u001b[0m     \u001b[39mnext\u001b[39m(reader)  \u001b[39m# Пропускаем заголовок\u001b[39;00m\n\u001b[1;32m      4\u001b[0m     \u001b[39mfor\u001b[39;00m row \u001b[39min\u001b[39;00m reader:\n\u001b[0;32m----> 5\u001b[0m         cur\u001b[39m.\u001b[39;49mexecute(\u001b[39m'''\u001b[39;49m\n\u001b[1;32m      6\u001b[0m \u001b[39m            INSERT INTO transaction_bd (CLIENT_ID,START_DT, END_DT,CLIENT_NAME,YEAR_BIRTH)\u001b[39;49m\n\u001b[1;32m      7\u001b[0m \u001b[39m            VALUES (?, ?, ?, ?, ?)\u001b[39;49m\n\u001b[1;32m      8\u001b[0m \u001b[39m        \u001b[39;49m\u001b[39m'''\u001b[39;49m,row) \u001b[39m# \u001b[39;00m\n\u001b[1;32m     10\u001b[0m \u001b[39m# Сохраняем изменения и закрываем соединение\u001b[39;00m\n\u001b[1;32m     11\u001b[0m con\u001b[39m.\u001b[39mcommit()\n",
      "\u001b[0;31mOperationalError\u001b[0m: table transaction_bd has no column named CLIENT_ID"
     ]
    }
   ],
   "source": [
    "with open('/Users/mikhailgubanov/Yandex.Disk.localized/Course_of_data_storage_and_processing_systems/client_info.csv', 'r') as file:\n",
    "    reader = csv.reader(file)\n",
    "    next(reader)  # Пропускаем заголовок\n",
    "    for row in reader:\n",
    "        cur.execute('''\n",
    "            INSERT INTO customer_bd (CLIENT_ID,START_DT, END_DT,CLIENT_NAME,YEAR_BIRTH)\n",
    "            VALUES (?, ?, ?, ?, ?)\n",
    "        ''',row) # \n",
    "\n",
    "# Сохраняем изменения и закрываем соединение\n",
    "con.commit()\n",
    "con.close()"
   ]
  }
 ],
 "metadata": {
  "kernelspec": {
   "display_name": "Python 3.11.2 64-bit",
   "language": "python",
   "name": "python3"
  },
  "language_info": {
   "codemirror_mode": {
    "name": "ipython",
    "version": 3
   },
   "file_extension": ".py",
   "mimetype": "text/x-python",
   "name": "python",
   "nbconvert_exporter": "python",
   "pygments_lexer": "ipython3",
   "version": "3.11.2"
  },
  "orig_nbformat": 4,
  "vscode": {
   "interpreter": {
    "hash": "aee8b7b246df8f9039afb4144a1f6fd8d2ca17a180786b69acc140d282b71a49"
   }
  }
 },
 "nbformat": 4,
 "nbformat_minor": 2
}
