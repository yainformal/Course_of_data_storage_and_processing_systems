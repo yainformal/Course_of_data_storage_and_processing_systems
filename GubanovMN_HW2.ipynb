{
 "cells": [
  {
   "cell_type": "code",
   "execution_count": 31,
   "metadata": {},
   "outputs": [
    {
     "name": "stdout",
     "output_type": "stream",
     "text": [
      "Collecting PrettyTable\n",
      "  Downloading prettytable-3.6.0-py3-none-any.whl (27 kB)\n",
      "Requirement already satisfied: wcwidth in /Users/mikhailgubanov/Library/Python/3.11/lib/python/site-packages (from PrettyTable) (0.2.5)\n",
      "Installing collected packages: PrettyTable\n",
      "Successfully installed PrettyTable-3.6.0\n",
      "\n",
      "\u001b[1m[\u001b[0m\u001b[34;49mnotice\u001b[0m\u001b[1;39;49m]\u001b[0m\u001b[39;49m A new release of pip available: \u001b[0m\u001b[31;49m22.3.1\u001b[0m\u001b[39;49m -> \u001b[0m\u001b[32;49m23.0.1\u001b[0m\n",
      "\u001b[1m[\u001b[0m\u001b[34;49mnotice\u001b[0m\u001b[1;39;49m]\u001b[0m\u001b[39;49m To update, run: \u001b[0m\u001b[32;49mpip3 install --upgrade pip\u001b[0m\n",
      "Note: you may need to restart the kernel to use updated packages.\n"
     ]
    }
   ],
   "source": [
    "pip install PrettyTable # устанавливаем модуль для вывода таблиц"
   ]
  },
  {
   "cell_type": "code",
   "execution_count": 32,
   "metadata": {},
   "outputs": [],
   "source": [
    "import sqlite3 as sql\n",
    "import csv\n",
    "from prettytable import PrettyTable"
   ]
  },
  {
   "cell_type": "markdown",
   "metadata": {},
   "source": [
    "### Шаг 1"
   ]
  },
  {
   "cell_type": "code",
   "execution_count": 23,
   "metadata": {},
   "outputs": [],
   "source": [
    "with sql.connect('Gubanov_transaction.db') as con:\n",
    "    cur = con.cursor()\n",
    "    cur.execute(f'CREATE TABLE IF NOT EXISTS transaction_bd (TX_DATETIME NUMERIC NOT NULL,CUSTOMER_ID INTEGER NOT NULL,TX_AMOUNT REAL NOT NULL)')\n",
    "    "
   ]
  },
  {
   "cell_type": "code",
   "execution_count": 24,
   "metadata": {},
   "outputs": [],
   "source": [
    "with open('/Users/mikhailgubanov/Downloads/final_transactions.csv', 'r') as file:\n",
    "    reader = csv.reader(file)\n",
    "    next(reader)  # Пропускаем заголовок\n",
    "    for row in reader:\n",
    "        cur.execute('''\n",
    "            INSERT INTO transaction_bd (TX_DATETIME, CUSTOMER_ID, TX_AMOUNT)\n",
    "            VALUES (?, ?, ?)\n",
    "        ''', (row[1], row[2], row[4])) # оставляем только столбцы указанные в задании\n",
    "\n",
    "# Сохраняем изменения и закрываем соединение\n",
    "con.commit()\n",
    "con.close()"
   ]
  },
  {
   "cell_type": "markdown",
   "metadata": {},
   "source": [
    "### Шаг 2"
   ]
  },
  {
   "cell_type": "markdown",
   "metadata": {},
   "source": [
    "A. Вывести всех клиентов, у которых сумма транзакций больше 700000 за весь период (сортируя клиентов по возрастанию);"
   ]
  },
  {
   "cell_type": "code",
   "execution_count": 39,
   "metadata": {},
   "outputs": [
    {
     "name": "stdout",
     "output_type": "stream",
     "text": [
      "+-------------+-------------------+\n",
      "| CUSTOMER_ID |    TOTAL_AMOUNT   |\n",
      "+-------------+-------------------+\n",
      "|     389     | 753411.8999999998 |\n",
      "|     2249    |     707478.64     |\n",
      "|     2891    | 786115.8700000002 |\n",
      "|     3116    |     721980.69     |\n",
      "|     4163    | 765153.6300000006 |\n",
      "+-------------+-------------------+\n"
     ]
    }
   ],
   "source": [
    "def db_connect(request):\n",
    "    with sql.connect('Gubanov_transaction.db') as con:\n",
    "        cur = con.cursor()\n",
    "        cur.execute(request)\n",
    "    con.commit()\n",
    "    return cur.fetchall() \n",
    "\n",
    "part_1_request = \"\"\"SELECT CUSTOMER_ID, sum(TX_AMOUNT) as TOTAL_AMOUNT\n",
    "from transaction_bd\n",
    "GROUP by CUSTOMER_ID\n",
    "HAVING TOTAL_AMOUNT  > 700000\n",
    "order by CUSTOMER_ID ASC\"\"\"\n",
    "\n",
    "result_1 = db_connect(part_1_request)\n",
    "\n",
    "# Создаем таблицу и добавляем заголовки\n",
    "table_1 = PrettyTable()\n",
    "table_1.field_names = [\"CUSTOMER_ID\", \"TOTAL_AMOUNT\"]\n",
    "\n",
    "# Добавляем данные в таблицу\n",
    "for row in result_1:\n",
    "    table_1.add_row(row)\n",
    "\n",
    "# Выводим таблицу\n",
    "print(table_1)"
   ]
  },
  {
   "cell_type": "markdown",
   "metadata": {},
   "source": [
    "B. Вывести всех клиентов, у которых сумма транзакций больше 200000 за период 01.01.2023 - 13.01.2023 (сортируя клиентов по возрастанию);"
   ]
  },
  {
   "cell_type": "code",
   "execution_count": 40,
   "metadata": {},
   "outputs": [
    {
     "name": "stdout",
     "output_type": "stream",
     "text": [
      "+-------------+--------------------+\n",
      "| CUSTOMER_ID |    TOTAL_AMOUNT    |\n",
      "+-------------+--------------------+\n",
      "|     1918    | 209624.37999999995 |\n",
      "|     3406    | 205762.23999999996 |\n",
      "|     3833    |      269107.4      |\n",
      "|     4252    | 208090.38000000003 |\n",
      "+-------------+--------------------+\n"
     ]
    }
   ],
   "source": [
    "part_2_request = \"\"\" SELECT CUSTOMER_ID, sum(TX_AMOUNT) as TOTAL_AMOUNT\n",
    "from transaction_bd\n",
    "WHERE TX_DATETIME BETWEEN date('2023-01-01') and date ('2023-01-13')\n",
    "GROUP by CUSTOMER_ID\n",
    "HAVING TOTAL_AMOUNT  > 200000\n",
    "order by CUSTOMER_ID ASC \"\"\"\n",
    "\n",
    "result_2 = db_connect(part_2_request)\n",
    "\n",
    "# Создаем таблицу и добавляем заголовки\n",
    "table_2 = PrettyTable()\n",
    "table_2.field_names = [\"CUSTOMER_ID\", \"TOTAL_AMOUNT\"]\n",
    "\n",
    "# Добавляем данные в таблицу\n",
    "for row in result_2:\n",
    "    table_2.add_row(row)\n",
    "\n",
    "# Выводим таблицу\n",
    "print(table_2)"
   ]
  },
  {
   "cell_type": "markdown",
   "metadata": {},
   "source": [
    "C. Вывести тех клиентов, у которых id начинается с 4 и количество транзакций за весь период более 444;"
   ]
  },
  {
   "cell_type": "code",
   "execution_count": 41,
   "metadata": {},
   "outputs": [
    {
     "name": "stdout",
     "output_type": "stream",
     "text": [
      "+-------------+------------------+\n",
      "| CUSTOMER_ID | COUNT_Trasaction |\n",
      "+-------------+------------------+\n",
      "|     4231    |       451        |\n",
      "|     4539    |       445        |\n",
      "|     4661    |       449        |\n",
      "+-------------+------------------+\n"
     ]
    }
   ],
   "source": [
    "part_3_request = \"\"\"SELECT CUSTOMER_ID, count(TX_AMOUNT) as COUNT_Trasaction\n",
    "from transaction_bd\n",
    "WHERE CUSTOMER_ID LIKE '4%'\n",
    "GROUP by CUSTOMER_ID\n",
    "HAVING COUNT_Trasaction  > 444\n",
    "order by CUSTOMER_ID ASC \"\"\" \n",
    "\n",
    "result_3 = db_connect(part_3_request)\n",
    "\n",
    "# Создаем таблицу и добавляем заголовки\n",
    "table_3 = PrettyTable()\n",
    "table_3.field_names = [\"CUSTOMER_ID\", \"COUNT_Trasaction\"]\n",
    "\n",
    "# Добавляем данные в таблицу\n",
    "for row in result_3:\n",
    "    table_3.add_row(row)\n",
    "\n",
    "# Выводим таблицу\n",
    "print(table_3)"
   ]
  },
  {
   "cell_type": "markdown",
   "metadata": {},
   "source": [
    "D. Создать флаг доходности клиентов по логике:\n",
    "1. Если сумма транзакций не более 50000, тогда вывести 'низкая доходность';\n",
    "2. Если сумма транзакций больше 50000 и не более 10000 тогда вывести 'средняя доходность';\n",
    "3. Если сумма транзакций больше 100000 тогда вывести 'высокая доходность'."
   ]
  },
  {
   "cell_type": "code",
   "execution_count": 48,
   "metadata": {},
   "outputs": [
    {
     "ename": "OperationalError",
     "evalue": "duplicate column name: profitability_flg",
     "output_type": "error",
     "traceback": [
      "\u001b[0;31m---------------------------------------------------------------------------\u001b[0m",
      "\u001b[0;31mOperationalError\u001b[0m                          Traceback (most recent call last)",
      "Cell \u001b[0;32mIn[48], line 2\u001b[0m\n\u001b[1;32m      1\u001b[0m part_4d1 \u001b[39m=\u001b[39m \u001b[39m\"\"\"\u001b[39m\u001b[39m ALTER TABLE transaction_bd ADD COLUMN profitability_flg TEXT; \u001b[39m\u001b[39m\"\"\"\u001b[39m\n\u001b[0;32m----> 2\u001b[0m db_connect(part_4d1)\n\u001b[1;32m      4\u001b[0m part_4d2 \u001b[39m=\u001b[39m \u001b[39m\"\"\"\u001b[39m\u001b[39m UPDATE transaction_bd\u001b[39m\n\u001b[1;32m      5\u001b[0m \u001b[39mSET profitability_flg = \u001b[39m\n\u001b[1;32m      6\u001b[0m \u001b[39m\tCASE \u001b[39m\n\u001b[0;32m   (...)\u001b[0m\n\u001b[1;32m     11\u001b[0m \u001b[39mGROUP BY CUSTOMER_ID;\u001b[39m\n\u001b[1;32m     12\u001b[0m \u001b[39m\"\"\"\u001b[39m\n",
      "Cell \u001b[0;32mIn[39], line 4\u001b[0m, in \u001b[0;36mdb_connect\u001b[0;34m(request)\u001b[0m\n\u001b[1;32m      2\u001b[0m \u001b[39mwith\u001b[39;00m sql\u001b[39m.\u001b[39mconnect(\u001b[39m'\u001b[39m\u001b[39mGubanov_transaction.db\u001b[39m\u001b[39m'\u001b[39m) \u001b[39mas\u001b[39;00m con:\n\u001b[1;32m      3\u001b[0m     cur \u001b[39m=\u001b[39m con\u001b[39m.\u001b[39mcursor()\n\u001b[0;32m----> 4\u001b[0m     cur\u001b[39m.\u001b[39mexecute(request)\n\u001b[1;32m      5\u001b[0m con\u001b[39m.\u001b[39mcommit()\n\u001b[1;32m      6\u001b[0m \u001b[39mreturn\u001b[39;00m cur\u001b[39m.\u001b[39mfetchall()\n",
      "\u001b[0;31mOperationalError\u001b[0m: duplicate column name: profitability_flg"
     ]
    }
   ],
   "source": [
    "# добавляем новый столбец в базу данных\n",
    "part_4d1 = \"\"\" ALTER TABLE transaction_bd ADD COLUMN profitability_flg TEXT; \"\"\"\n",
    "db_connect(part_4d1)"
   ]
  },
  {
   "cell_type": "code",
   "execution_count": 70,
   "metadata": {},
   "outputs": [],
   "source": [
    "# скрипт для проставления флага доходности \n",
    "part_4d2 = \"\"\" \n",
    "UPDATE transaction_bd as tbd\n",
    "SET profitability_flg = \n",
    "\tCASE \n",
    "\t\tWHEN total_amount <= 50000 THEN 'Низкая доходность'\n",
    "\t\tWHEN total_amount > 50000 and total_amount <= 100000 THEN 'Средняя доходность'\n",
    "\t\tWHEN total_amount > 100000 THEN 'Высокая доходность'\n",
    "\tEND\n",
    "FROM \n",
    "(SELECT CUSTOMER_ID, SUM(TX_AMOUNT) as total_amount\n",
    "FROM transaction_bd\n",
    "GROUP BY CUSTOMER_ID\n",
    ") AS t\n",
    "WHERE tbd.CUSTOMER_ID = t.CUSTOMER_ID;\n",
    "\"\"\""
   ]
  },
  {
   "cell_type": "code",
   "execution_count": 71,
   "metadata": {},
   "outputs": [
    {
     "data": {
      "text/plain": [
       "[]"
      ]
     },
     "execution_count": 71,
     "metadata": {},
     "output_type": "execute_result"
    }
   ],
   "source": [
    "# проставляем флаг доходности \n",
    "db_connect(part_4d2)"
   ]
  },
  {
   "cell_type": "markdown",
   "metadata": {},
   "source": [
    "E. Посмотреть количество клиентов с каждым видом доходности (из пункта 2.d);"
   ]
  },
  {
   "cell_type": "code",
   "execution_count": 73,
   "metadata": {},
   "outputs": [
    {
     "name": "stdout",
     "output_type": "stream",
     "text": [
      "+--------------------+------+\n",
      "| profitability_flg  | CNT  |\n",
      "+--------------------+------+\n",
      "| Высокая доходность | 2167 |\n",
      "| Низкая доходность  | 1812 |\n",
      "| Средняя доходность | 1007 |\n",
      "+--------------------+------+\n"
     ]
    }
   ],
   "source": [
    "part_5_request = \"\"\" SELECT profitability_flg,  count (DISTINCT CUSTOMER_ID) as CNT\n",
    "from transaction_bd\n",
    "group by profitability_flg \"\"\"\n",
    "\n",
    "result_5 = db_connect(part_5_request)\n",
    "\n",
    "# Создаем таблицу и добавляем заголовки\n",
    "table_5 = PrettyTable()\n",
    "table_5.field_names = [\"profitability_flg\", \"CNT\"]\n",
    "\n",
    "# Добавляем данные в таблицу\n",
    "for row in result_5:\n",
    "    table_5.add_row(row)\n",
    "\n",
    "# Выводим таблицу\n",
    "print(table_5)"
   ]
  },
  {
   "cell_type": "markdown",
   "metadata": {},
   "source": [
    "F. Вывести сумму транзакций за каждый день (сортируя дни по возрастанию)."
   ]
  },
  {
   "cell_type": "code",
   "execution_count": 75,
   "metadata": {},
   "outputs": [
    {
     "name": "stdout",
     "output_type": "stream",
     "text": [
      "+------------+--------------------+\n",
      "|    DATE    |   TOTAL_AMMOUNT    |\n",
      "+------------+--------------------+\n",
      "| 2023-01-01 | 4827656.260000017  |\n",
      "| 2023-01-02 |  4862551.40999997  |\n",
      "| 2023-01-03 | 5058973.710000001  |\n",
      "| 2023-01-04 | 4938142.4699999895 |\n",
      "| 2023-01-05 | 5002954.230000006  |\n",
      "| 2023-01-06 | 5020241.789999987  |\n",
      "| 2023-01-07 | 4974352.960000018  |\n",
      "| 2023-01-08 | 5020491.3299999945 |\n",
      "| 2023-01-09 | 5098359.960000016  |\n",
      "| 2023-01-10 | 5312800.130000001  |\n",
      "| 2023-01-11 | 5195595.700000019  |\n",
      "| 2023-01-12 | 5036027.3800000185 |\n",
      "| 2023-01-13 |  5172407.39999998  |\n",
      "| 2023-01-14 | 5158187.190000015  |\n",
      "| 2023-01-15 | 5132430.110000002  |\n",
      "| 2023-01-16 | 5192341.990000004  |\n",
      "| 2023-01-17 | 5168015.320000032  |\n",
      "| 2023-01-18 | 5064907.070000006  |\n",
      "| 2023-01-19 | 5202390.379999996  |\n",
      "| 2023-01-20 | 5122747.519999973  |\n",
      "| 2023-01-21 | 5172218.489999989  |\n",
      "| 2023-01-22 | 5350576.020000009  |\n",
      "| 2023-01-23 | 5509342.650000024  |\n",
      "| 2023-01-24 | 5121699.410000006  |\n",
      "| 2023-01-25 |     5124780.09     |\n",
      "| 2023-01-26 | 5015297.470000002  |\n",
      "| 2023-01-27 | 5173414.509999989  |\n",
      "| 2023-01-28 | 5325311.1700000055 |\n",
      "| 2023-01-29 | 5184092.479999997  |\n",
      "| 2023-01-30 | 5283390.190000005  |\n",
      "| 2023-01-31 | 5293867.610000003  |\n",
      "| 2023-02-01 | 5052247.520000003  |\n",
      "| 2023-02-02 |  5565528.15000002  |\n",
      "| 2023-02-03 | 5298461.199999976  |\n",
      "| 2023-02-04 | 5047924.939999994  |\n",
      "| 2023-02-05 | 5220620.709999999  |\n",
      "| 2023-02-06 | 5289781.729999996  |\n",
      "| 2023-02-07 | 5271993.230000014  |\n",
      "| 2023-02-08 | 5017634.470000007  |\n",
      "| 2023-02-09 | 5364510.250000018  |\n",
      "| 2023-02-10 | 5213566.389999998  |\n",
      "| 2023-02-11 |  5284367.95999999  |\n",
      "| 2023-02-12 | 5089487.289999998  |\n",
      "| 2023-02-13 | 5201792.159999976  |\n",
      "| 2023-02-14 | 5115113.950000019  |\n",
      "| 2023-02-15 | 5317738.709999987  |\n",
      "| 2023-02-16 | 5250895.340000017  |\n",
      "| 2023-02-17 | 5134352.590000002  |\n",
      "| 2023-02-18 | 5146493.979999993  |\n",
      "| 2023-02-19 | 5308506.6900000125 |\n",
      "| 2023-02-20 | 5162650.000000003  |\n",
      "| 2023-02-21 | 4968545.250000017  |\n",
      "| 2023-02-22 | 5203599.720000004  |\n",
      "| 2023-02-23 | 5153476.930000021  |\n",
      "| 2023-02-24 |     5068478.41     |\n",
      "| 2023-02-25 | 5280106.6499999985 |\n",
      "| 2023-02-26 | 5270947.540000007  |\n",
      "| 2023-02-27 | 5224220.540000005  |\n",
      "| 2023-02-28 | 5291367.919999989  |\n",
      "| 2023-03-01 | 4975484.050000005  |\n",
      "| 2023-03-02 | 5084504.720000024  |\n",
      "| 2023-03-03 | 5219917.820000005  |\n",
      "| 2023-03-04 | 5149440.920000014  |\n",
      "| 2023-03-05 | 5120093.119999983  |\n",
      "| 2023-03-06 | 5160967.249999989  |\n",
      "| 2023-03-07 | 5145318.719999978  |\n",
      "| 2023-03-08 | 5227622.5599999735 |\n",
      "| 2023-03-09 | 4969329.819999993  |\n",
      "| 2023-03-10 | 5283228.200000011  |\n",
      "| 2023-03-11 |     5073828.32     |\n",
      "| 2023-03-12 | 5116969.369999985  |\n",
      "| 2023-03-13 | 5111366.8000000175 |\n",
      "| 2023-03-14 | 5224712.090000008  |\n",
      "| 2023-03-15 | 5159202.589999984  |\n",
      "| 2023-03-16 | 5142239.400000008  |\n",
      "| 2023-03-17 | 5106735.300000015  |\n",
      "| 2023-03-18 | 5242316.8900000155 |\n",
      "| 2023-03-19 | 5053612.869999989  |\n",
      "| 2023-03-20 | 5272131.179999997  |\n",
      "| 2023-03-21 | 5023599.4399999995 |\n",
      "| 2023-03-22 | 5176952.740000014  |\n",
      "| 2023-03-23 | 4984803.439999998  |\n",
      "| 2023-03-24 | 5000017.710000015  |\n",
      "| 2023-03-25 | 5165273.319999995  |\n",
      "| 2023-03-26 |  5091531.70000001  |\n",
      "| 2023-03-27 | 5087787.440000003  |\n",
      "| 2023-03-28 | 5081889.169999989  |\n",
      "| 2023-03-29 | 5146567.290000001  |\n",
      "| 2023-03-30 | 5189834.100000021  |\n",
      "| 2023-03-31 |  5055474.53999999  |\n",
      "| 2023-04-01 | 5383710.069999976  |\n",
      "| 2023-04-02 | 5275655.660000003  |\n",
      "| 2023-04-03 | 5176180.409999977  |\n",
      "| 2023-04-04 | 5071073.639999986  |\n",
      "| 2023-04-05 | 5213926.179999989  |\n",
      "| 2023-04-06 | 5429039.850000007  |\n",
      "| 2023-04-07 | 5093673.490000022  |\n",
      "| 2023-04-08 |  5111928.93000003  |\n",
      "| 2023-04-09 | 5254270.139999995  |\n",
      "| 2023-04-10 |  4990049.68000002  |\n",
      "| 2023-04-11 | 5243268.140000042  |\n",
      "| 2023-04-12 | 5139601.619999994  |\n",
      "| 2023-04-13 | 5185958.720000015  |\n",
      "| 2023-04-14 | 5134008.849999989  |\n",
      "| 2023-04-15 | 5211553.379999973  |\n",
      "| 2023-04-16 | 5299386.8099999875 |\n",
      "| 2023-04-17 | 5100973.309999991  |\n",
      "| 2023-04-18 | 5233557.389999983  |\n",
      "| 2023-04-19 |  5194846.43999997  |\n",
      "| 2023-04-20 | 1795235.7200000023 |\n",
      "+------------+--------------------+\n"
     ]
    }
   ],
   "source": [
    "part_6_request = \"\"\" SELECT date(TX_DATETIME) as 'DATE', sum(TX_AMOUNT) as Total_Ammount\n",
    "from transaction_bd\n",
    "GROUP by date(TX_DATETIME)\n",
    "order by 1 ASC; \"\"\"\n",
    "\n",
    "result_6 = db_connect(part_6_request)\n",
    "\n",
    "# Создаем таблицу и добавляем заголовки\n",
    "table_6 = PrettyTable()\n",
    "table_6.field_names = [\"DATE\", \"TOTAL_AMMOUNT\"]\n",
    "\n",
    "# Добавляем данные в таблицу\n",
    "for row in result_6:\n",
    "    table_6.add_row(row)\n",
    "\n",
    "# Выводим таблицу\n",
    "print(table_6)"
   ]
  },
  {
   "cell_type": "markdown",
   "metadata": {},
   "source": [
    "### Шаг 3"
   ]
  },
  {
   "cell_type": "markdown",
   "metadata": {},
   "source": [
    "(Балл - 0.2) Подготовить дашборд с помощью Dash по пункту 2.f, включив туда графики bar и histogram; вставить в конце ноутбука скрин графиков из дашборда."
   ]
  },
  {
   "cell_type": "code",
   "execution_count": 87,
   "metadata": {},
   "outputs": [],
   "source": [
    "from dash import Dash, html, dcc\n",
    "import plotly.express as px\n",
    "import pandas as pd\n",
    "import dash"
   ]
  },
  {
   "cell_type": "code",
   "execution_count": 88,
   "metadata": {},
   "outputs": [],
   "source": [
    "con_db = sql.connect('Gubanov_transaction.db')\n",
    "data = pd.read_sql(part_6_request,con_db)\n"
   ]
  },
  {
   "cell_type": "code",
   "execution_count": 84,
   "metadata": {},
   "outputs": [
    {
     "data": {
      "text/html": [
       "<div>\n",
       "<style scoped>\n",
       "    .dataframe tbody tr th:only-of-type {\n",
       "        vertical-align: middle;\n",
       "    }\n",
       "\n",
       "    .dataframe tbody tr th {\n",
       "        vertical-align: top;\n",
       "    }\n",
       "\n",
       "    .dataframe thead th {\n",
       "        text-align: right;\n",
       "    }\n",
       "</style>\n",
       "<table border=\"1\" class=\"dataframe\">\n",
       "  <thead>\n",
       "    <tr style=\"text-align: right;\">\n",
       "      <th></th>\n",
       "      <th>DATE</th>\n",
       "      <th>Total_Ammount</th>\n",
       "    </tr>\n",
       "  </thead>\n",
       "  <tbody>\n",
       "    <tr>\n",
       "      <th>0</th>\n",
       "      <td>2023-01-01</td>\n",
       "      <td>4827656.26</td>\n",
       "    </tr>\n",
       "    <tr>\n",
       "      <th>1</th>\n",
       "      <td>2023-01-02</td>\n",
       "      <td>4862551.41</td>\n",
       "    </tr>\n",
       "    <tr>\n",
       "      <th>2</th>\n",
       "      <td>2023-01-03</td>\n",
       "      <td>5058973.71</td>\n",
       "    </tr>\n",
       "    <tr>\n",
       "      <th>3</th>\n",
       "      <td>2023-01-04</td>\n",
       "      <td>4938142.47</td>\n",
       "    </tr>\n",
       "    <tr>\n",
       "      <th>4</th>\n",
       "      <td>2023-01-05</td>\n",
       "      <td>5002954.23</td>\n",
       "    </tr>\n",
       "    <tr>\n",
       "      <th>...</th>\n",
       "      <td>...</td>\n",
       "      <td>...</td>\n",
       "    </tr>\n",
       "    <tr>\n",
       "      <th>105</th>\n",
       "      <td>2023-04-16</td>\n",
       "      <td>5299386.81</td>\n",
       "    </tr>\n",
       "    <tr>\n",
       "      <th>106</th>\n",
       "      <td>2023-04-17</td>\n",
       "      <td>5100973.31</td>\n",
       "    </tr>\n",
       "    <tr>\n",
       "      <th>107</th>\n",
       "      <td>2023-04-18</td>\n",
       "      <td>5233557.39</td>\n",
       "    </tr>\n",
       "    <tr>\n",
       "      <th>108</th>\n",
       "      <td>2023-04-19</td>\n",
       "      <td>5194846.44</td>\n",
       "    </tr>\n",
       "    <tr>\n",
       "      <th>109</th>\n",
       "      <td>2023-04-20</td>\n",
       "      <td>1795235.72</td>\n",
       "    </tr>\n",
       "  </tbody>\n",
       "</table>\n",
       "<p>110 rows × 2 columns</p>\n",
       "</div>"
      ],
      "text/plain": [
       "           DATE  Total_Ammount\n",
       "0    2023-01-01     4827656.26\n",
       "1    2023-01-02     4862551.41\n",
       "2    2023-01-03     5058973.71\n",
       "3    2023-01-04     4938142.47\n",
       "4    2023-01-05     5002954.23\n",
       "..          ...            ...\n",
       "105  2023-04-16     5299386.81\n",
       "106  2023-04-17     5100973.31\n",
       "107  2023-04-18     5233557.39\n",
       "108  2023-04-19     5194846.44\n",
       "109  2023-04-20     1795235.72\n",
       "\n",
       "[110 rows x 2 columns]"
      ]
     },
     "metadata": {},
     "output_type": "display_data"
    }
   ],
   "source": [
    "display(data)"
   ]
  },
  {
   "cell_type": "code",
   "execution_count": 102,
   "metadata": {},
   "outputs": [
    {
     "name": "stdout",
     "output_type": "stream",
     "text": [
      "Dash is running on http://127.0.0.1:8050/\n",
      "\n",
      " * Serving Flask app '__main__'\n",
      " * Debug mode: off\n"
     ]
    }
   ],
   "source": [
    "from dash import Dash, html, dcc\n",
    "import plotly.express as px\n",
    "import pandas as pd\n",
    "\n",
    "app = Dash()\n",
    "\n",
    "\n",
    "data = pd.read_sql(part_6_request,con_db)\n",
    "\n",
    "fig = px.bar(data, x='DATE', y=\"Total_Ammount\")\n",
    "fig_1 = px.histogram(data, x='DATE', y=\"Total_Ammount\")\n",
    "\n",
    "fig.update_layout(\n",
    "xaxis_title=\"Дата\",\n",
    "yaxis_title=\"Сумма транзакций\"\n",
    ")\n",
    "\n",
    "fig_1.update_layout(\n",
    "xaxis_title=\"Дата\",\n",
    "yaxis_title=\"Количество транзакций\"\n",
    ")\n",
    "\n",
    "app.layout = html.Div(children=[\n",
    "    html.H1(children='Дашборд: сумма транзакций за каждый день'),\n",
    "\n",
    "    html.Div(children='''\n",
    "        Задача: Вывести сумму транзакций за каждый день (сортируя дни по возрастанию).\n",
    "    '''),\n",
    "\n",
    "    dcc.Graph(\n",
    "        id='example-graph_bar',\n",
    "        figure=fig\n",
    "        \n",
    "    ),\n",
    "     dcc.Graph(\n",
    "        id='example-graph_hist',\n",
    "        figure=fig_1\n",
    "        \n",
    "    ),\n",
    "])\n",
    "\n",
    "app.run_server()"
   ]
  },
  {
   "cell_type": "markdown",
   "metadata": {},
   "source": [
    "### Вставляем изображения полученные на Дашборде"
   ]
  },
  {
   "cell_type": "code",
   "execution_count": 103,
   "metadata": {},
   "outputs": [],
   "source": [
    "import base64\n",
    "from IPython.display import HTML"
   ]
  },
  {
   "cell_type": "code",
   "execution_count": 121,
   "metadata": {},
   "outputs": [],
   "source": [
    "with open(\"/Users/mikhailgubanov/Yandex.Disk-gubanov.mn@phystech.edu.localized/практика по системам хранения/HW_2/newplot.png\", \"rb\") as image_file:\n",
    "    encoded_string = base64.b64encode(image_file.read()).decode('utf-8')"
   ]
  },
  {
   "cell_type": "code",
   "execution_count": 122,
   "metadata": {},
   "outputs": [
    {
     "data": {
      "text/html": [
       "<img src=\"data:newplot/png;base64,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\">"
      ],
      "text/plain": [
       "<IPython.core.display.HTML object>"
      ]
     },
     "execution_count": 122,
     "metadata": {},
     "output_type": "execute_result"
    }
   ],
   "source": [
    "HTML('<img src=\"data:newplot/png;base64,{0}\">'.format(encoded_string))\n"
   ]
  },
  {
   "cell_type": "code",
   "execution_count": 124,
   "metadata": {},
   "outputs": [],
   "source": [
    "with open(\"/Users/mikhailgubanov/Yandex.Disk-gubanov.mn@phystech.edu.localized/практика по системам хранения/HW_2/newplot-2.png\", \"rb\") as image_file:\n",
    "    encoded_string_2 = base64.b64encode(image_file.read()).decode('utf-8')"
   ]
  },
  {
   "cell_type": "code",
   "execution_count": 125,
   "metadata": {},
   "outputs": [
    {
     "data": {
      "text/html": [
       "<img src=\"data:newplot/png;base64,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\">"
      ],
      "text/plain": [
       "<IPython.core.display.HTML object>"
      ]
     },
     "execution_count": 125,
     "metadata": {},
     "output_type": "execute_result"
    }
   ],
   "source": [
    "HTML('<img src=\"data:newplot/png;base64,{0}\">'.format(encoded_string_2))"
   ]
  }
 ],
 "metadata": {
  "kernelspec": {
   "display_name": "Python 3.11.0 64-bit",
   "language": "python",
   "name": "python3"
  },
  "language_info": {
   "codemirror_mode": {
    "name": "ipython",
    "version": 3
   },
   "file_extension": ".py",
   "mimetype": "text/x-python",
   "name": "python",
   "nbconvert_exporter": "python",
   "pygments_lexer": "ipython3",
   "version": "3.11.2"
  },
  "orig_nbformat": 4,
  "vscode": {
   "interpreter": {
    "hash": "aee8b7b246df8f9039afb4144a1f6fd8d2ca17a180786b69acc140d282b71a49"
   }
  }
 },
 "nbformat": 4,
 "nbformat_minor": 2
}
